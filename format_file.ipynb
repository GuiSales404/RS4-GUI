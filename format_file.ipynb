{
 "cells": [
  {
   "cell_type": "code",
   "execution_count": 2,
   "id": "f81bbcf8",
   "metadata": {},
   "outputs": [],
   "source": [
    "import pandas as pd\n",
    "import numpy as np"
   ]
  },
  {
   "cell_type": "code",
   "execution_count": 11,
   "id": "3f859e9f",
   "metadata": {},
   "outputs": [
    {
     "name": "stderr",
     "output_type": "stream",
     "text": [
      "/var/folders/jq/v7bqsk910plftk20fml8jw4w0000gn/T/ipykernel_73654/970596180.py:2: FutureWarning: A value is trying to be set on a copy of a DataFrame or Series through chained assignment using an inplace method.\n",
      "The behavior will change in pandas 3.0. This inplace method will never work because the intermediate object on which we are setting values always behaves as a copy.\n",
      "\n",
      "For example, when doing 'df[col].method(value, inplace=True)', try using 'df.method({col: value}, inplace=True)' or df[col] = df[col].method(value) instead, to perform the operation inplace on the original object.\n",
      "\n",
      "\n",
      "  sleep_df['HEART_RATE(bpm)'].replace(0.0, np.nan, inplace=True)\n"
     ]
    }
   ],
   "source": [
    "sleep_df = pd.read_csv('/Users/guisales/RS4-GUI/time_series/cut_001_2024-12-10_02-00.csv')\n",
    "sleep_df['HEART_RATE(bpm)'].replace(0.0, np.nan, inplace=True)\n",
    "sleep_df.dropna(subset=['HEART_RATE(bpm)'], inplace=True)\n",
    "sleep_df['date'] = pd.to_datetime(sleep_df['date'])\n",
    "sleep_df.set_index('date', inplace=True)\n",
    "sleep_df = sleep_df.resample('0.05s').mean()\n",
    "sleep_df.interpolate(method='linear', inplace=True)\n",
    "sleep_df.dropna(inplace=True)\n",
    "sleep_df.reset_index(inplace=True)\n",
    "sleep_df = sleep_df[['ACC_X(m/s^2)', 'ACC_Y', 'ACC_Z', 'HEART_RATE(bpm)']]\n",
    "sleep_df['acc'] = np.linalg.norm(sleep_df[['ACC_X(m/s^2)', 'ACC_Y', 'ACC_Z']].values, axis=1)"
   ]
  },
  {
   "cell_type": "code",
   "execution_count": 12,
   "id": "10c93237",
   "metadata": {},
   "outputs": [
    {
     "data": {
      "text/html": [
       "<div>\n",
       "<style scoped>\n",
       "    .dataframe tbody tr th:only-of-type {\n",
       "        vertical-align: middle;\n",
       "    }\n",
       "\n",
       "    .dataframe tbody tr th {\n",
       "        vertical-align: top;\n",
       "    }\n",
       "\n",
       "    .dataframe thead th {\n",
       "        text-align: right;\n",
       "    }\n",
       "</style>\n",
       "<table border=\"1\" class=\"dataframe\">\n",
       "  <thead>\n",
       "    <tr style=\"text-align: right;\">\n",
       "      <th></th>\n",
       "      <th>ACC_X(m/s^2)</th>\n",
       "      <th>ACC_Y</th>\n",
       "      <th>ACC_Z</th>\n",
       "      <th>HEART_RATE(bpm)</th>\n",
       "      <th>acc</th>\n",
       "    </tr>\n",
       "  </thead>\n",
       "  <tbody>\n",
       "    <tr>\n",
       "      <th>0</th>\n",
       "      <td>5.668512</td>\n",
       "      <td>-6.034346</td>\n",
       "      <td>-2.025016</td>\n",
       "      <td>98.0</td>\n",
       "      <td>8.523265</td>\n",
       "    </tr>\n",
       "    <tr>\n",
       "      <th>1</th>\n",
       "      <td>3.663607</td>\n",
       "      <td>-11.972924</td>\n",
       "      <td>-2.979345</td>\n",
       "      <td>102.0</td>\n",
       "      <td>12.870486</td>\n",
       "    </tr>\n",
       "    <tr>\n",
       "      <th>2</th>\n",
       "      <td>1.769315</td>\n",
       "      <td>-9.643845</td>\n",
       "      <td>-4.035666</td>\n",
       "      <td>102.0</td>\n",
       "      <td>10.602868</td>\n",
       "    </tr>\n",
       "    <tr>\n",
       "      <th>3</th>\n",
       "      <td>1.447055</td>\n",
       "      <td>-13.002431</td>\n",
       "      <td>-5.672822</td>\n",
       "      <td>102.0</td>\n",
       "      <td>14.259666</td>\n",
       "    </tr>\n",
       "    <tr>\n",
       "      <th>4</th>\n",
       "      <td>1.491588</td>\n",
       "      <td>-9.078334</td>\n",
       "      <td>-6.496906</td>\n",
       "      <td>102.0</td>\n",
       "      <td>11.262805</td>\n",
       "    </tr>\n",
       "    <tr>\n",
       "      <th>...</th>\n",
       "      <td>...</td>\n",
       "      <td>...</td>\n",
       "      <td>...</td>\n",
       "      <td>...</td>\n",
       "      <td>...</td>\n",
       "    </tr>\n",
       "    <tr>\n",
       "      <th>14130</th>\n",
       "      <td>-0.486981</td>\n",
       "      <td>-0.516190</td>\n",
       "      <td>9.879434</td>\n",
       "      <td>94.0</td>\n",
       "      <td>9.904888</td>\n",
       "    </tr>\n",
       "    <tr>\n",
       "      <th>14131</th>\n",
       "      <td>-0.672771</td>\n",
       "      <td>-0.308852</td>\n",
       "      <td>9.063490</td>\n",
       "      <td>94.0</td>\n",
       "      <td>9.093671</td>\n",
       "    </tr>\n",
       "    <tr>\n",
       "      <th>14132</th>\n",
       "      <td>-0.040223</td>\n",
       "      <td>-0.118274</td>\n",
       "      <td>9.646239</td>\n",
       "      <td>94.0</td>\n",
       "      <td>9.647048</td>\n",
       "    </tr>\n",
       "    <tr>\n",
       "      <th>14133</th>\n",
       "      <td>-0.203986</td>\n",
       "      <td>-0.339019</td>\n",
       "      <td>9.844479</td>\n",
       "      <td>94.0</td>\n",
       "      <td>9.852426</td>\n",
       "    </tr>\n",
       "    <tr>\n",
       "      <th>14134</th>\n",
       "      <td>-0.774125</td>\n",
       "      <td>-0.603339</td>\n",
       "      <td>9.955889</td>\n",
       "      <td>94.0</td>\n",
       "      <td>10.004150</td>\n",
       "    </tr>\n",
       "  </tbody>\n",
       "</table>\n",
       "<p>14135 rows × 5 columns</p>\n",
       "</div>"
      ],
      "text/plain": [
       "       ACC_X(m/s^2)      ACC_Y     ACC_Z  HEART_RATE(bpm)        acc\n",
       "0          5.668512  -6.034346 -2.025016             98.0   8.523265\n",
       "1          3.663607 -11.972924 -2.979345            102.0  12.870486\n",
       "2          1.769315  -9.643845 -4.035666            102.0  10.602868\n",
       "3          1.447055 -13.002431 -5.672822            102.0  14.259666\n",
       "4          1.491588  -9.078334 -6.496906            102.0  11.262805\n",
       "...             ...        ...       ...              ...        ...\n",
       "14130     -0.486981  -0.516190  9.879434             94.0   9.904888\n",
       "14131     -0.672771  -0.308852  9.063490             94.0   9.093671\n",
       "14132     -0.040223  -0.118274  9.646239             94.0   9.647048\n",
       "14133     -0.203986  -0.339019  9.844479             94.0   9.852426\n",
       "14134     -0.774125  -0.603339  9.955889             94.0  10.004150\n",
       "\n",
       "[14135 rows x 5 columns]"
      ]
     },
     "execution_count": 12,
     "metadata": {},
     "output_type": "execute_result"
    }
   ],
   "source": [
    "sleep_df"
   ]
  },
  {
   "cell_type": "code",
   "execution_count": 13,
   "id": "12e2cc8a",
   "metadata": {},
   "outputs": [],
   "source": [
    "acc = sleep_df['acc'].values\n",
    "hr = sleep_df['HEART_RATE(bpm)'].values"
   ]
  },
  {
   "cell_type": "code",
   "execution_count": 15,
   "id": "6d01ed61",
   "metadata": {},
   "outputs": [],
   "source": [
    "with open('/Users/guisales/RS4-GUI/time_series/bpm_001_2024-12-10_02-00.csv.txt', 'w') as f:\n",
    "    array_str = ','.join([str(val) for val in hr])\n",
    "    f.write(array_str)\n"
   ]
  },
  {
   "cell_type": "code",
   "execution_count": null,
   "id": "839c9ab6",
   "metadata": {},
   "outputs": [],
   "source": []
  }
 ],
 "metadata": {
  "kernelspec": {
   "display_name": "snippets",
   "language": "python",
   "name": "python3"
  },
  "language_info": {
   "codemirror_mode": {
    "name": "ipython",
    "version": 3
   },
   "file_extension": ".py",
   "mimetype": "text/x-python",
   "name": "python",
   "nbconvert_exporter": "python",
   "pygments_lexer": "ipython3",
   "version": "3.13.2"
  }
 },
 "nbformat": 4,
 "nbformat_minor": 5
}
